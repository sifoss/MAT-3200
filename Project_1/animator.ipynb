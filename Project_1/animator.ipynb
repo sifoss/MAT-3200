{
 "cells": [
  {
   "cell_type": "code",
   "execution_count": 1,
   "metadata": {},
   "outputs": [
    {
     "ename": "NameError",
     "evalue": "name 'f' is not defined",
     "output_type": "error",
     "traceback": [
      "\u001b[0;31m---------------------------------------------------------------------------\u001b[0m",
      "\u001b[0;31mNameError\u001b[0m                                 Traceback (most recent call last)",
      "\u001b[1;32m/Users/sigbjornvaldefoss/Documents/studier/MAT-3200/Project 1/animator.ipynb Cell 1\u001b[0m in \u001b[0;36m<cell line: 10>\u001b[0;34m()\u001b[0m\n\u001b[1;32m      <a href='vscode-notebook-cell:/Users/sigbjornvaldefoss/Documents/studier/MAT-3200/Project%201/animator.ipynb#W0sZmlsZQ%3D%3D?line=8'>9</a>\u001b[0m y2 \u001b[39m=\u001b[39m np\u001b[39m.\u001b[39mempty((\u001b[39m101\u001b[39m, \u001b[39m201\u001b[39m))\n\u001b[1;32m     <a href='vscode-notebook-cell:/Users/sigbjornvaldefoss/Documents/studier/MAT-3200/Project%201/animator.ipynb#W0sZmlsZQ%3D%3D?line=9'>10</a>\u001b[0m \u001b[39mfor\u001b[39;00m i \u001b[39min\u001b[39;00m \u001b[39mrange\u001b[39m(\u001b[39m101\u001b[39m):\n\u001b[0;32m---> <a href='vscode-notebook-cell:/Users/sigbjornvaldefoss/Documents/studier/MAT-3200/Project%201/animator.ipynb#W0sZmlsZQ%3D%3D?line=10'>11</a>\u001b[0m     y1[i] \u001b[39m=\u001b[39m f(t[i], x)\n\u001b[1;32m     <a href='vscode-notebook-cell:/Users/sigbjornvaldefoss/Documents/studier/MAT-3200/Project%201/animator.ipynb#W0sZmlsZQ%3D%3D?line=11'>12</a>\u001b[0m     y2[i] \u001b[39m=\u001b[39m f(t[i], x)\n",
      "\u001b[0;31mNameError\u001b[0m: name 'f' is not defined"
     ]
    }
   ],
   "source": [
    "import matplotlib.pyplot as plt\n",
    "import matplotlib.animation\n",
    "import numpy as np\n",
    "t = np.linspace(0, 3, 101)\n",
    "x = np.linspace(-2*np.pi, 2*np.pi, 201)\n",
    "f1 = lambda t, x: np.sin(5*x - 10*t)\n",
    "f2 = lambda t, x: np.cos(3*x - 7*t)\n",
    "y1 = np.empty((101, 201))\n",
    "y2 = np.empty((101, 201))\n",
    "for i in range(101):\n",
    "    y1[i] = f(t[i], x)\n",
    "    y2[i] = f(t[i], x)\n"
   ]
  },
  {
   "cell_type": "code",
   "execution_count": 14,
   "metadata": {},
   "outputs": [],
   "source": [
    "import matplotlib.pyplot as plt\n",
    "import matplotlib.animation\n",
    "import numpy as np\n",
    "class Animator:\n",
    "    def __init__(self, t, x, y1, y2):\n",
    "        self.x = x\n",
    "        self.t = t\n",
    "        self.y1 = y1  #f(t, x)\n",
    "        self.y2 = y2\n",
    "\n",
    "    def animate(self, save=False):\n",
    "        x, y1, y2 = self.x, self.y1, self.y2\n",
    "        self.x_axis = [x[0], x[-1]]\n",
    "        self.y_axis = [np.min(y1)-0.1, np.max(y2)+0.1]\n",
    "        x_axis = self.x_axis\n",
    "        y_axis = self.y_axis\n",
    "        \n",
    "        fig, ax = plt.subplots()\n",
    "        ax.axis([x_axis[0],x_axis[1],y_axis[0],y_axis[1]])\n",
    "        l1,l2 = ax.plot([],[], [], [])\n",
    "\n",
    "        def an(i):\n",
    "            l1.set_data(x, y1[i])\n",
    "            l2.set_data(x, y2[i])\n",
    "\n",
    "        self.ani = matplotlib.animation.FuncAnimation(fig, an, frames=len(self.t))\n",
    "        \n",
    "        \n",
    "        if save==True:\n",
    "            anim.save('coil.gif',writer='ffmpeg') "
   ]
  },
  {
   "cell_type": "code",
   "execution_count": 15,
   "metadata": {},
   "outputs": [
    {
     "ename": "ValueError",
     "evalue": "not enough values to unpack (expected 2, got 1)",
     "output_type": "error",
     "traceback": [
      "\u001b[0;31m---------------------------------------------------------------------------\u001b[0m",
      "\u001b[0;31mValueError\u001b[0m                                Traceback (most recent call last)",
      "\u001b[1;32m/Users/sigbjornvaldefoss/Documents/studier/MAT-3200/Project 1/animator.ipynb Cell 3\u001b[0m in \u001b[0;36m<cell line: 10>\u001b[0;34m()\u001b[0m\n\u001b[1;32m      <a href='vscode-notebook-cell:/Users/sigbjornvaldefoss/Documents/studier/MAT-3200/Project%201/animator.ipynb#W2sZmlsZQ%3D%3D?line=7'>8</a>\u001b[0m     y2[i] \u001b[39m=\u001b[39m np\u001b[39m.\u001b[39mcos(\u001b[39m2\u001b[39m\u001b[39m*\u001b[39mx \u001b[39m-\u001b[39m \u001b[39m7\u001b[39m\u001b[39m*\u001b[39mt[i])\u001b[39m*\u001b[39mnp\u001b[39m.\u001b[39mcos(\u001b[39m10\u001b[39m\u001b[39m*\u001b[39mt[i])\u001b[39m*\u001b[39m\u001b[39m0.7\u001b[39m\n\u001b[1;32m      <a href='vscode-notebook-cell:/Users/sigbjornvaldefoss/Documents/studier/MAT-3200/Project%201/animator.ipynb#W2sZmlsZQ%3D%3D?line=8'>9</a>\u001b[0m movie \u001b[39m=\u001b[39m Animator(t, x, y1, y2)\n\u001b[0;32m---> <a href='vscode-notebook-cell:/Users/sigbjornvaldefoss/Documents/studier/MAT-3200/Project%201/animator.ipynb#W2sZmlsZQ%3D%3D?line=9'>10</a>\u001b[0m movie\u001b[39m.\u001b[39;49manimate()\n",
      "\u001b[1;32m/Users/sigbjornvaldefoss/Documents/studier/MAT-3200/Project 1/animator.ipynb Cell 3\u001b[0m in \u001b[0;36mAnimator.animate\u001b[0;34m(self, save)\u001b[0m\n\u001b[1;32m     <a href='vscode-notebook-cell:/Users/sigbjornvaldefoss/Documents/studier/MAT-3200/Project%201/animator.ipynb#W2sZmlsZQ%3D%3D?line=17'>18</a>\u001b[0m fig, ax \u001b[39m=\u001b[39m plt\u001b[39m.\u001b[39msubplots()\n\u001b[1;32m     <a href='vscode-notebook-cell:/Users/sigbjornvaldefoss/Documents/studier/MAT-3200/Project%201/animator.ipynb#W2sZmlsZQ%3D%3D?line=18'>19</a>\u001b[0m ax\u001b[39m.\u001b[39maxis([x_axis[\u001b[39m0\u001b[39m],x_axis[\u001b[39m1\u001b[39m],y_axis[\u001b[39m0\u001b[39m],y_axis[\u001b[39m1\u001b[39m]])\n\u001b[0;32m---> <a href='vscode-notebook-cell:/Users/sigbjornvaldefoss/Documents/studier/MAT-3200/Project%201/animator.ipynb#W2sZmlsZQ%3D%3D?line=19'>20</a>\u001b[0m l1,l2 \u001b[39m=\u001b[39m ax\u001b[39m.\u001b[39mplot([],[])\n\u001b[1;32m     <a href='vscode-notebook-cell:/Users/sigbjornvaldefoss/Documents/studier/MAT-3200/Project%201/animator.ipynb#W2sZmlsZQ%3D%3D?line=21'>22</a>\u001b[0m \u001b[39mdef\u001b[39;00m \u001b[39man\u001b[39m(i):\n\u001b[1;32m     <a href='vscode-notebook-cell:/Users/sigbjornvaldefoss/Documents/studier/MAT-3200/Project%201/animator.ipynb#W2sZmlsZQ%3D%3D?line=22'>23</a>\u001b[0m     l1\u001b[39m.\u001b[39mset_data(x, y1[i])\n",
      "\u001b[0;31mValueError\u001b[0m: not enough values to unpack (expected 2, got 1)"
     ]
    },
    {
     "data": {
      "image/png": "[encoded data removed]",
      "text/plain": [
       "<Figure size 432x288 with 1 Axes>"
      ]
     },
     "metadata": {
      "needs_background": "light"
     },
     "output_type": "display_data"
    }
   ],
   "source": [
    "t = np.linspace(0, 3, 101)\n",
    "x = np.linspace(-2*np.pi, 2*np.pi, 201)\n",
    "    \n",
    "y1 = np.empty((101, 201))\n",
    "y2 = np.empty((101, 201))\n",
    "for i in range(101):\n",
    "    y1[i] = np.sin(x - 5*t[i])*np.cos(8*t[i])\n",
    "    y2[i] = np.cos(2*x - 7*t[i])*np.cos(10*t[i])*0.7\n",
    "movie = Animator(t, x, y1, y2)\n",
    "movie.animate() "
   ]
  },
  {
   "cell_type": "code",
   "execution_count": 16,
   "metadata": {},
   "outputs": [
    {
     "ename": "AttributeError",
     "evalue": "'Animator' object has no attribute 'ani'",
     "output_type": "error",
     "traceback": [
      "\u001b[0;31m---------------------------------------------------------------------------\u001b[0m",
      "\u001b[0;31mAttributeError\u001b[0m                            Traceback (most recent call last)",
      "\u001b[1;32m/Users/sigbjornvaldefoss/Documents/studier/MAT-3200/Project 1/animator.ipynb Cell 4\u001b[0m in \u001b[0;36m<cell line: 2>\u001b[0;34m()\u001b[0m\n\u001b[1;32m      <a href='vscode-notebook-cell:/Users/sigbjornvaldefoss/Documents/studier/MAT-3200/Project%201/animator.ipynb#W3sZmlsZQ%3D%3D?line=0'>1</a>\u001b[0m \u001b[39mfrom\u001b[39;00m \u001b[39mIPython\u001b[39;00m\u001b[39m.\u001b[39;00m\u001b[39mdisplay\u001b[39;00m \u001b[39mimport\u001b[39;00m HTML\n\u001b[0;32m----> <a href='vscode-notebook-cell:/Users/sigbjornvaldefoss/Documents/studier/MAT-3200/Project%201/animator.ipynb#W3sZmlsZQ%3D%3D?line=1'>2</a>\u001b[0m HTML(movie\u001b[39m.\u001b[39;49mani\u001b[39m.\u001b[39mto_jshtml())\n",
      "\u001b[0;31mAttributeError\u001b[0m: 'Animator' object has no attribute 'ani'"
     ]
    }
   ],
   "source": [
    "from IPython.display import HTML\n",
    "HTML(movie.ani.to_jshtml())"
   ]
  },
  {
   "cell_type": "code",
   "execution_count": null,
   "metadata": {},
   "outputs": [],
   "source": []
  }
 ],
 "metadata": {
  "kernelspec": {
   "display_name": "Python 3.9.12 ('base')",
   "language": "python",
   "name": "python3"
  },
  "language_info": {
   "codemirror_mode": {
    "name": "ipython",
    "version": 3
   },
   "file_extension": ".py",
   "mimetype": "text/x-python",
   "name": "python",
   "nbconvert_exporter": "python",
   "pygments_lexer": "ipython3",
   "version": "3.9.12"
  },
  "orig_nbformat": 4,
  "vscode": {
   "interpreter": {
    "hash": "aa90c15007ca565d4c2024daffbdd42a3042e238d445c6be3310fe6554f4c80c"
   }
  }
 },
 "nbformat": 4,
 "nbformat_minor": 2
}
