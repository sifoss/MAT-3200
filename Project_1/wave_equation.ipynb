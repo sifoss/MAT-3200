{
 "cells": [
  {
   "cell_type": "code",
   "execution_count": 5,
   "metadata": {},
   "outputs": [],
   "source": [
    "import numpy as np, matplotlib.pyplot as plt\n",
    "xx = np.linspace(0, 10, 100)\n",
    "yy = np.linspace(-2, 2, 100)\n",
    "x, y = np.meshgrid(xx, yy)\n",
    "f = lambda x, y: x*np.sin(y)"
   ]
  },
  {
   "cell_type": "code",
   "execution_count": 12,
   "metadata": {},
   "outputs": [
    {
     "data": {
      "text/plain": [
       "()"
      ]
     },
     "execution_count": 12,
     "metadata": {},
     "output_type": "execute_result"
    }
   ],
   "source": [
    "class Wave_Equation:\n",
    "    def __init__(self):\n",
    "        pass\n",
    "\n",
    "    def make_grid(self, x0=0, xN=1, N=100,\\\n",
    "                        t0=0, tn=1, n=100):\n",
    "        self.x = np.linspace(x0, xN, N)\n",
    "        self.t = np.linspace(t0, tn, n)\n",
    "        self.h = (xN - x0)/N\n",
    "        self.k = (tn - t0)/N\n",
    "        self.s = k**2/h**2\n",
    "        self.n, self.N = n, N\n",
    "\n",
    "    def solve(self, h, g, phi, psi):\n",
    "        self.h = h(self.t)\n",
    "        self.g = g(self.t)\n",
    "        self.phi = phi(self.x)\n",
    "        self.psi = psi(self.x)\n",
    "        u = np.empty((self.N, self.n)) # (x, t)\n",
    "        u[:, 0] = self.phi\n",
    "        u[0, :] = self.h \n",
    "        u[-1,:] = self.g\n",
    "        s, k = self.s, self.k\n",
    "        \n",
    "        # Setting second time step\n",
    "        for i in range(1, N-1):\n",
    "            u[i, 1] = 0.5*s*(phi[j+1] + phi[j-1]) + (1-s)*phi[i] + k*psi[j]\n",
    "        \n",
    "        #solve\n",
    "        for i in range(2, n):\n",
    "            for j in range(1, N-1):\n",
    "                u[j, i+1] = s*(u[j+1, i] + u[j-1,i]) + 2*(1-s)*u[j,i] - u[j,i-1]\n",
    "        return u\n",
    "         \n",
    "    \n",
    "   \n",
    "    \n",
    "\n",
    "\n"
   ]
  },
  {
   "cell_type": "code",
   "execution_count": 18,
   "metadata": {},
   "outputs": [
    {
     "data": {
      "text/plain": [
       "(4, 4)"
      ]
     },
     "execution_count": 18,
     "metadata": {},
     "output_type": "execute_result"
    }
   ],
   "source": [
    "k = np.empty((4, 4))\n",
    "k.shape"
   ]
  },
  {
   "cell_type": "code",
   "execution_count": 19,
   "metadata": {},
   "outputs": [
    {
     "name": "stdout",
     "output_type": "stream",
     "text": [
      "1\n",
      "2\n",
      "3\n",
      "4\n",
      "5\n",
      "6\n",
      "7\n",
      "8\n"
     ]
    }
   ],
   "source": [
    "n = 10\n",
    "for i in range(1, n-1):\n",
    "    print (i)"
   ]
  },
  {
   "cell_type": "code",
   "execution_count": null,
   "metadata": {},
   "outputs": [],
   "source": []
  }
 ],
 "metadata": {
  "kernelspec": {
   "display_name": "Python 3.9.12 ('base')",
   "language": "python",
   "name": "python3"
  },
  "language_info": {
   "codemirror_mode": {
    "name": "ipython",
    "version": 3
   },
   "file_extension": ".py",
   "mimetype": "text/x-python",
   "name": "python",
   "nbconvert_exporter": "python",
   "pygments_lexer": "ipython3",
   "version": "3.9.12"
  },
  "orig_nbformat": 4,
  "vscode": {
   "interpreter": {
    "hash": "aa90c15007ca565d4c2024daffbdd42a3042e238d445c6be3310fe6554f4c80c"
   }
  }
 },
 "nbformat": 4,
 "nbformat_minor": 2
}
